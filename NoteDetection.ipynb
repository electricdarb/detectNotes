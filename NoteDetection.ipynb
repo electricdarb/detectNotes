{
 "cells": [
  {
   "cell_type": "code",
   "execution_count": 58,
   "metadata": {},
   "outputs": [],
   "source": [
    "import numpy as np "
   ]
  },
  {
   "cell_type": "code",
   "execution_count": 132,
   "metadata": {},
   "outputs": [],
   "source": [
    "import wave as w\n",
    "\n",
    "class Wave():\n",
    "    \n",
    "    def __init__(self, waveData, framerate):\n",
    "        self.waveData = waveData\n",
    "        self.framerate = framerate\n",
    "        self.duration = len(waveData)/framerate\n",
    "        self.timeData = np.linspace(0, self.duration, len(waveData), endpoint = False)\n",
    "        \n",
    "    \n",
    "        \n",
    "    def Segment(self, start, duration):\n",
    "        \"\"\"\n",
    "        Takes a wave, a start time, and a duration\n",
    "        \n",
    "        Returns a seperate wave from start to start+duration \n",
    "        \n",
    "        \"\"\" \n",
    "        #multiplying frames(indexes/s) by time to get the index at a certian time \n",
    "        startIndex = round(self.framerate * start)\n",
    "        \n",
    "        if self.duration < start + duration:\n",
    "            finishIndex = round(self.framerate * (start + duration)) + 1\n",
    "        else:\n",
    "            finishIndex = len(self.waveData) -1\n",
    "        waveDataR = self.waveData[startIndex::finishIndex]\n",
    "        framerateR = self.framerate\n",
    "        waveR = Wave(waveDataR, framerateR)\n",
    "        return waveR\n",
    "          \n",
    "        \n",
    "    def Normalize(self, amp=1.0):\n",
    "        \"\"\"\n",
    "        I took the logic in this method from allen downey, i modified it to fit my purposes \n",
    "\n",
    "        Normalizes a wave array so the maximum amplitude is +amp or -amp.\n",
    "\n",
    "        \n",
    "        \"\"\"\n",
    "        high, low = abs(max(self.waveData)), abs(min(self.waveData))\n",
    "        self.waveData = amp * self.waveData / max(high, low)\n",
    "        \n",
    "        \n",
    "def ReadWave(filename):\n",
    "    \"\"\"\n",
    "    Logic by Allen Downey \n",
    "\n",
    "    Modified by Bradford Gill(very slightly)\n",
    "\n",
    "    Reads a wave file.\n",
    "\n",
    "    filename: string\n",
    "\n",
    "    returns: Wave\n",
    "    \"\"\"\n",
    "    fp = w.open(filename, 'r')\n",
    "\n",
    "    nchannels = fp.getnchannels()\n",
    "    nframes = fp.getnframes()\n",
    "    sampwidth = fp.getsampwidth()\n",
    "    framerate = fp.getframerate()\n",
    "\n",
    "    z_str = fp.readframes(nframes)\n",
    "\n",
    "    fp.close()\n",
    "\n",
    "    dtype_map = {1:np.int8, 2:np.int16, 3:'special', 4:np.int32}\n",
    "    if sampwidth not in dtype_map:\n",
    "        raise ValueError('sampwidth %d unknown' % sampwidth)\n",
    "\n",
    "    if sampwidth == 3:\n",
    "        xs = np.fromstring(z_str, dtype=np.int8).astype(np.int32)\n",
    "        ys = (xs[2::3] * 256 + xs[1::3]) * 256 + xs[0::3]\n",
    "    else:\n",
    "        ys = np.frombuffer(z_str, dtype=dtype_map[sampwidth])\n",
    "\n",
    "    # if it's in stereo, just pull out the first channel\n",
    "    if nchannels == 2:\n",
    "        ys = ys[::2]\n",
    "\n",
    "    #ts = np.arange(len(ys)) / framerate\n",
    "    waveR = Wave(ys, framerate=framerate)\n",
    "    waveR.Normalize()\n",
    "    return waveR\n",
    "\n",
    "    "
   ]
  },
  {
   "cell_type": "code",
   "execution_count": 133,
   "metadata": {},
   "outputs": [],
   "source": [
    "#an array of all notes\n",
    "notes = [16.35, 17.32, \t18.35, \t19.45, \t20.6, \t21.83, \t23.12, \t24.5, \t25.96, \t27.5, \t29.14, \t30.87, \t32.7, \t34.65, \t36.71, \t38.89, \t41.2, \t43.65, \t46.25, \t49, \t51.91, \t55, \t58.27, \t61.74, \t65.41, \t69.3, \t73.42, \t77.78, \t82.41, \t87.31, \t92.5, \t98, \t103.83, \t110, \t116.54, \t123.47, \t130.81, \t138.59, \t146.83, \t155.56, \t164.81, \t174.61, \t185, \t196, \t207.65, \t220, \t233.08, \t246.94, \t261.63, \t277.18, \t293.66, \t311.13, \t329.63, \t349.23, \t369.99, \t392, \t415.3, \t440, \t466.16, \t493.88, \t523.25, \t554.37, \t587.33, \t622.25, \t659.25, \t698.46, \t739.99, \t783.99, \t830.61, \t880, \t932.33, \t987.77, \t1046.5, \t1108.73, \t1174.66, \t1244.51, \t1318.51, \t1396.91, \t1479.98, \t1567.98, \t1661.22, \t1760, \t1864.66, \t1975.53, \t2093, \t2217.46, \t2349.32, \t2489.02, \t2637.02, \t2793.83, \t2959.96, \t3135.96, \t3322.44, \t3520, \t3729.31, \t3951.07, \t4186.01, \t4434.92, \t4698.63, \t4978.03, \t5274.04, \t5587.65, \t5919.91, \t6271.93, \t6644.88, \t7040, \t7458.62, \t7902.13] \n",
    "\n",
    "#returns a tuple of x and y locations of the ft visual \n",
    "def ftGraphData(wave, circleFreq):\n",
    "    \n",
    "    \n",
    "    #getting array of theta \n",
    "    endTheta=2 * np.pi * circleFreq * wave.duration\n",
    "    arrayLen=len(wave.waveData)\n",
    "    theta=np.linspace(0, endTheta, arrayLen)\n",
    "    \n",
    "    #setting x and x to values around a circle \n",
    "    x=np.multiply(wave.waveData, np.cos(theta))\n",
    "    y=np.multiply(wave.waveData, np.sin(theta))\n",
    "    \n",
    "    \n",
    "    return x, y\n",
    "\n",
    "\n",
    "#Takes in wave and the frequency to analyize and returns the center of mass of the wave analyzed and the frequency \n",
    "def CenMass(wave, freq):\n",
    "    x, y = ftGraphData(wave, freq)\n",
    "    \n",
    "    CM_x = sum(x)/len(x)\n",
    "    CM_y = sum(x)/len(x)\n",
    "    \n",
    "    CM = np.multiply(CM_y ,CM_y)+np.multiply(CM_x, CM_x)\n",
    "    \n",
    "    return CM\n",
    "\n",
    "#takes a wave and freq then uses the threshold to detirmine if the note is prominate\n",
    "#\n",
    "def DetectNote(wave, freq, threshold = .003):\n",
    "    CM = CenMass(wave, freq)\n",
    "    present = False\n",
    "    if CM > threshold: \n",
    "        present = True \n",
    "        \n",
    "    return present\n",
    "\n",
    "\n",
    "    \n",
    "    "
   ]
  },
  {
   "cell_type": "code",
   "execution_count": 134,
   "metadata": {},
   "outputs": [
    {
     "data": {
      "image/png": "[encoded data removed]",
      "text/plain": [
       "<Figure size 432x288 with 1 Axes>"
      ]
     },
     "metadata": {
      "needs_background": "light"
     },
     "output_type": "display_data"
    }
   ],
   "source": [
    "import matplotlib\n",
    "from matplotlib import pyplot as plt \n",
    "\n",
    "wave = ReadWave('440.wav')\n",
    "segment = wave.Segment( 1, 10)\n",
    "y = []\n",
    "\n",
    "brad = [164.81,\n",
    " 174.61,\n",
    " 185,\n",
    " 196,\n",
    " 207.65,\n",
    " 220,\n",
    " 233.08,\n",
    " 246.94,\n",
    " 261.63,\n",
    " 277.18,\n",
    " 293.66,\n",
    " 311.13,\n",
    " 329.63,\n",
    " 349.23,\n",
    " 369.99,\n",
    " 392,\n",
    " 415.3,\n",
    " 440,\n",
    " 466.16,\n",
    " 493.88,\n",
    " 523.25,\n",
    " 554.37,\n",
    " 587.33,\n",
    " 622.25,\n",
    " 659.25,\n",
    " 698.46,\n",
    " 739.99,\n",
    " 783.99,\n",
    " 830.61,\n",
    " 880]\n",
    "\n",
    "for note in notes[30:70]:\n",
    "    y.append(CenMass(segment, note))\n",
    "    \n",
    "plt.bar(notes[30:70], y, width = 10)\n",
    "plt.show()\n",
    "    "
   ]
  },
  {
   "cell_type": "code",
   "execution_count": 135,
   "metadata": {},
   "outputs": [
    {
     "data": {
      "text/plain": [
       "2.2675736961451248e-05"
      ]
     },
     "execution_count": 135,
     "metadata": {},
     "output_type": "execute_result"
    }
   ],
   "source": [
    "wave = ReadWave('440.wav')\n",
    "segment = wave.Segment( 1, 1)\n",
    "\n",
    "segment.duration"
   ]
  },
  {
   "cell_type": "code",
   "execution_count": 96,
   "metadata": {},
   "outputs": [
    {
     "data": {
      "text/plain": [
       "[<matplotlib.lines.Line2D at 0x10d482dd8>]"
      ]
     },
     "execution_count": 96,
     "metadata": {},
     "output_type": "execute_result"
    },
    {
     "data": {
      "image/png": "[encoded data removed]",
      "text/plain": [
       "<Figure size 432x288 with 1 Axes>"
      ]
     },
     "metadata": {
      "needs_background": "light"
     },
     "output_type": "display_data"
    }
   ],
   "source": [
    "plt.plot(wave.waveData[round(1*wave.framerate)::round(1.04*wave.framerate)])"
   ]
  },
  {
   "cell_type": "code",
   "execution_count": 97,
   "metadata": {},
   "outputs": [
    {
     "data": {
      "text/plain": [
       "0.9999999999999999"
      ]
     },
     "execution_count": 97,
     "metadata": {},
     "output_type": "execute_result"
    }
   ],
   "source": [
    "wave.timeData[44100]"
   ]
  },
  {
   "cell_type": "code",
   "execution_count": 138,
   "metadata": {},
   "outputs": [
    {
     "data": {
      "text/plain": [
       "180809.99999999997"
      ]
     },
     "execution_count": 138,
     "metadata": {},
     "output_type": "execute_result"
    }
   ],
   "source": [
    "44100*4.1"
   ]
  },
  {
   "cell_type": "code",
   "execution_count": 139,
   "metadata": {},
   "outputs": [
    {
     "data": {
      "text/plain": [
       "4.1"
      ]
     },
     "execution_count": 139,
     "metadata": {},
     "output_type": "execute_result"
    }
   ],
   "source": [
    "wave.timeData[round(180809.99999999997)]"
   ]
  },
  {
   "cell_type": "code",
   "execution_count": null,
   "metadata": {},
   "outputs": [],
   "source": []
  }
 ],
 "metadata": {
  "kernelspec": {
   "display_name": "Python 3",
   "language": "python",
   "name": "python3"
  },
  "language_info": {
   "codemirror_mode": {
    "name": "ipython",
    "version": 3
   },
   "file_extension": ".py",
   "mimetype": "text/x-python",
   "name": "python",
   "nbconvert_exporter": "python",
   "pygments_lexer": "ipython3",
   "version": "3.7.3"
  }
 },
 "nbformat": 4,
 "nbformat_minor": 2
}
